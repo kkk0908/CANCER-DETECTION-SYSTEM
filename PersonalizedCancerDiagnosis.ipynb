{
 "cells": [
  {
   "cell_type": "markdown",
   "metadata": {},
   "source": [
    "<h1>3. Exploratory Data Analysis</h1>"
   ]
  },
  {
   "cell_type": "code",
   "execution_count": 15,
   "metadata": {
    "collapsed": true
   },
   "outputs": [],
   "source": [
    "import pandas as pd\n",
    "import matplotlib.pyplot as plt\n",
    "import re\n",
    "import time\n",
    "import warnings\n",
    "import numpy as np\n",
    "from nltk.corpus import stopwords\n",
    "from sklearn.preprocessing import normalize\n",
    "from sklearn.feature_extraction.text import CountVectorizer\n",
    "import seaborn as sns\n",
    "from sklearn.neighbors import KNeighborsClassifier\n",
    "from sklearn.metrics import confusion_matrix\n",
    "from sklearn.metrics.classification import accuracy_score, log_loss\n",
    "#from sklearn.feature_extraction.text import TfidfVectorizer\n",
    "from scipy.sparse import hstack\n",
    "#from sklearn.multiclass import OneVsRestClassifier\n",
    "from collections import Counter, defaultdict\n",
    "from sklearn.calibration import CalibratedClassifierCV\n",
    "from sklearn.naive_bayes import MultinomialNB\n",
    "from sklearn.model_selection import train_test_split\n",
    "import math\n",
    "from sklearn.metrics import normalized_mutual_info_score\n",
    "#from sklearn.ensemble import RandomForestClassifier\n",
    "warnings.filterwarnings(\"ignore\")"
   ]
  },
  {
   "cell_type": "code",
   "execution_count": 16,
   "metadata": {},
   "outputs": [
    {
     "name": "stdout",
     "output_type": "stream",
     "text": [
      "Number of data points :  3321\n",
      "Number of features :  4\n",
      "Features :  ['ID' 'Gene' 'Variation' 'Class']\n"
     ]
    },
    {
     "data": {
      "text/html": [
       "<div>\n",
       "<style scoped>\n",
       "    .dataframe tbody tr th:only-of-type {\n",
       "        vertical-align: middle;\n",
       "    }\n",
       "\n",
       "    .dataframe tbody tr th {\n",
       "        vertical-align: top;\n",
       "    }\n",
       "\n",
       "    .dataframe thead th {\n",
       "        text-align: right;\n",
       "    }\n",
       "</style>\n",
       "<table border=\"1\" class=\"dataframe\">\n",
       "  <thead>\n",
       "    <tr style=\"text-align: right;\">\n",
       "      <th></th>\n",
       "      <th>ID</th>\n",
       "      <th>Gene</th>\n",
       "      <th>Variation</th>\n",
       "      <th>Class</th>\n",
       "    </tr>\n",
       "  </thead>\n",
       "  <tbody>\n",
       "    <tr>\n",
       "      <th>0</th>\n",
       "      <td>0</td>\n",
       "      <td>FAM58A</td>\n",
       "      <td>Truncating Mutations</td>\n",
       "      <td>1</td>\n",
       "    </tr>\n",
       "    <tr>\n",
       "      <th>1</th>\n",
       "      <td>1</td>\n",
       "      <td>CBL</td>\n",
       "      <td>W802*</td>\n",
       "      <td>2</td>\n",
       "    </tr>\n",
       "    <tr>\n",
       "      <th>2</th>\n",
       "      <td>2</td>\n",
       "      <td>CBL</td>\n",
       "      <td>Q249E</td>\n",
       "      <td>2</td>\n",
       "    </tr>\n",
       "    <tr>\n",
       "      <th>3</th>\n",
       "      <td>3</td>\n",
       "      <td>CBL</td>\n",
       "      <td>N454D</td>\n",
       "      <td>3</td>\n",
       "    </tr>\n",
       "    <tr>\n",
       "      <th>4</th>\n",
       "      <td>4</td>\n",
       "      <td>CBL</td>\n",
       "      <td>L399V</td>\n",
       "      <td>4</td>\n",
       "    </tr>\n",
       "  </tbody>\n",
       "</table>\n",
       "</div>"
      ],
      "text/plain": [
       "   ID    Gene             Variation  Class\n",
       "0   0  FAM58A  Truncating Mutations      1\n",
       "1   1     CBL                 W802*      2\n",
       "2   2     CBL                 Q249E      2\n",
       "3   3     CBL                 N454D      3\n",
       "4   4     CBL                 L399V      4"
      ]
     },
     "execution_count": 16,
     "metadata": {},
     "output_type": "execute_result"
    }
   ],
   "source": [
    "data = pd.read_csv('training_variants')\n",
    "print('Number of data points : ', data.shape[0])\n",
    "print('Number of features : ', data.shape[1])\n",
    "print('Features : ', data.columns.values)\n",
    "data.head()"
   ]
  },
  {
   "cell_type": "markdown",
   "metadata": {},
   "source": [
    "<p>\n",
    "    training/training_variants is a comma separated file containing the description of the genetic mutations used for training. <br>\n",
    "    Fields are \n",
    "    <ul>\n",
    "        <li><b>ID : </b>the id of the row used to link the mutation to the clinical evidence</li>\n",
    "        <li><b>Gene : </b>the gene where this genetic mutation is located </li>\n",
    "        <li><b>Variation : </b>the aminoacid change for this mutations </li>\n",
    "        <li><b>Class :</b> 1-9 the class this genetic mutation has been classified on</li>\n",
    "    </ul>"
   ]
  },
  {
   "cell_type": "markdown",
   "metadata": {},
   "source": [
    "<h3>3.1.2. Reading Text Data</h3>"
   ]
  },
  {
   "cell_type": "code",
   "execution_count": 17,
   "metadata": {},
   "outputs": [
    {
     "name": "stdout",
     "output_type": "stream",
     "text": [
      "Number of data points :  3321\n",
      "Number of features :  2\n",
      "Features :  ['ID' 'TEXT']\n"
     ]
    },
    {
     "data": {
      "text/html": [
       "<div>\n",
       "<style scoped>\n",
       "    .dataframe tbody tr th:only-of-type {\n",
       "        vertical-align: middle;\n",
       "    }\n",
       "\n",
       "    .dataframe tbody tr th {\n",
       "        vertical-align: top;\n",
       "    }\n",
       "\n",
       "    .dataframe thead th {\n",
       "        text-align: right;\n",
       "    }\n",
       "</style>\n",
       "<table border=\"1\" class=\"dataframe\">\n",
       "  <thead>\n",
       "    <tr style=\"text-align: right;\">\n",
       "      <th></th>\n",
       "      <th>ID</th>\n",
       "      <th>TEXT</th>\n",
       "    </tr>\n",
       "  </thead>\n",
       "  <tbody>\n",
       "    <tr>\n",
       "      <th>0</th>\n",
       "      <td>0</td>\n",
       "      <td>Cyclin-dependent kinases (CDKs) regulate a var...</td>\n",
       "    </tr>\n",
       "    <tr>\n",
       "      <th>1</th>\n",
       "      <td>1</td>\n",
       "      <td>Abstract Background  Non-small cell lung canc...</td>\n",
       "    </tr>\n",
       "    <tr>\n",
       "      <th>2</th>\n",
       "      <td>2</td>\n",
       "      <td>Abstract Background  Non-small cell lung canc...</td>\n",
       "    </tr>\n",
       "    <tr>\n",
       "      <th>3</th>\n",
       "      <td>3</td>\n",
       "      <td>Recent evidence has demonstrated that acquired...</td>\n",
       "    </tr>\n",
       "    <tr>\n",
       "      <th>4</th>\n",
       "      <td>4</td>\n",
       "      <td>Oncogenic mutations in the monomeric Casitas B...</td>\n",
       "    </tr>\n",
       "  </tbody>\n",
       "</table>\n",
       "</div>"
      ],
      "text/plain": [
       "   ID                                               TEXT\n",
       "0   0  Cyclin-dependent kinases (CDKs) regulate a var...\n",
       "1   1   Abstract Background  Non-small cell lung canc...\n",
       "2   2   Abstract Background  Non-small cell lung canc...\n",
       "3   3  Recent evidence has demonstrated that acquired...\n",
       "4   4  Oncogenic mutations in the monomeric Casitas B..."
      ]
     },
     "execution_count": 17,
     "metadata": {},
     "output_type": "execute_result"
    }
   ],
   "source": [
    "# note the seprator in this file\n",
    "data_text =pd.read_csv(\"training_text\",sep=\"\\|\\|\",engine=\"python\",names=[\"ID\",\"TEXT\"],skiprows=1)\n",
    "print('Number of data points : ', data_text.shape[0])\n",
    "print('Number of features : ', data_text.shape[1])\n",
    "print('Features : ', data_text.columns.values)\n",
    "data_text.head()"
   ]
  },
  {
   "cell_type": "markdown",
   "metadata": {},
   "source": [
    "<h3>3.1.3. Preprocessing of text</h3>"
   ]
  },
  {
   "cell_type": "code",
   "execution_count": 18,
   "metadata": {
    "collapsed": true
   },
   "outputs": [],
   "source": [
    "# loading stop words from nltk library\n",
    "stop_words = set(stopwords.words('english'))\n",
    "\n",
    "\n",
    "def nlp_preprocessing(total_text, index, column):\n",
    "    if type(total_text) is not int:\n",
    "        string = \"\"\n",
    "        # replace every special char with space\n",
    "        total_text = re.sub('[^a-zA-Z0-9\\n]', ' ', str(total_text))\n",
    "        # replace multiple spaces with single space\n",
    "        total_text = re.sub('\\s+',' ', total_text)\n",
    "        # converting all the chars into lower-case.\n",
    "        total_text = total_text.lower()\n",
    "        \n",
    "        for word in total_text.split():\n",
    "        # if the word is a not a stop word then retain that word from the data\n",
    "            if not word in stop_words:\n",
    "                string += word + \" \"\n",
    "        \n",
    "        data_text[column][index] = string"
   ]
  },
  {
   "cell_type": "code",
   "execution_count": 19,
   "metadata": {},
   "outputs": [
    {
     "name": "stdout",
     "output_type": "stream",
     "text": [
      "Time took for preprocessing the text : 235.54786394658367 seconds\n"
     ]
    }
   ],
   "source": [
    "#text processing stage.\n",
    "start_time = time.clock()\n",
    "for index, row in data_text.iterrows():#iterate over row in dataframe pandas\n",
    "    nlp_preprocessing(row['TEXT'], index, 'TEXT')\n",
    "print('Time took for preprocessing the text :',time.clock() - start_time, \"seconds\")"
   ]
  },
  {
   "cell_type": "code",
   "execution_count": 20,
   "metadata": {},
   "outputs": [
    {
     "data": {
      "text/html": [
       "<div>\n",
       "<style scoped>\n",
       "    .dataframe tbody tr th:only-of-type {\n",
       "        vertical-align: middle;\n",
       "    }\n",
       "\n",
       "    .dataframe tbody tr th {\n",
       "        vertical-align: top;\n",
       "    }\n",
       "\n",
       "    .dataframe thead th {\n",
       "        text-align: right;\n",
       "    }\n",
       "</style>\n",
       "<table border=\"1\" class=\"dataframe\">\n",
       "  <thead>\n",
       "    <tr style=\"text-align: right;\">\n",
       "      <th></th>\n",
       "      <th>ID</th>\n",
       "      <th>Gene</th>\n",
       "      <th>Variation</th>\n",
       "      <th>Class</th>\n",
       "      <th>TEXT</th>\n",
       "    </tr>\n",
       "  </thead>\n",
       "  <tbody>\n",
       "    <tr>\n",
       "      <th>0</th>\n",
       "      <td>0</td>\n",
       "      <td>FAM58A</td>\n",
       "      <td>Truncating Mutations</td>\n",
       "      <td>1</td>\n",
       "      <td>cyclin dependent kinases cdks regulate variety...</td>\n",
       "    </tr>\n",
       "    <tr>\n",
       "      <th>1</th>\n",
       "      <td>1</td>\n",
       "      <td>CBL</td>\n",
       "      <td>W802*</td>\n",
       "      <td>2</td>\n",
       "      <td>abstract background non small cell lung cancer...</td>\n",
       "    </tr>\n",
       "    <tr>\n",
       "      <th>2</th>\n",
       "      <td>2</td>\n",
       "      <td>CBL</td>\n",
       "      <td>Q249E</td>\n",
       "      <td>2</td>\n",
       "      <td>abstract background non small cell lung cancer...</td>\n",
       "    </tr>\n",
       "    <tr>\n",
       "      <th>3</th>\n",
       "      <td>3</td>\n",
       "      <td>CBL</td>\n",
       "      <td>N454D</td>\n",
       "      <td>3</td>\n",
       "      <td>recent evidence demonstrated acquired uniparen...</td>\n",
       "    </tr>\n",
       "    <tr>\n",
       "      <th>4</th>\n",
       "      <td>4</td>\n",
       "      <td>CBL</td>\n",
       "      <td>L399V</td>\n",
       "      <td>4</td>\n",
       "      <td>oncogenic mutations monomeric casitas b lineag...</td>\n",
       "    </tr>\n",
       "  </tbody>\n",
       "</table>\n",
       "</div>"
      ],
      "text/plain": [
       "   ID    Gene             Variation  Class  \\\n",
       "0   0  FAM58A  Truncating Mutations      1   \n",
       "1   1     CBL                 W802*      2   \n",
       "2   2     CBL                 Q249E      2   \n",
       "3   3     CBL                 N454D      3   \n",
       "4   4     CBL                 L399V      4   \n",
       "\n",
       "                                                TEXT  \n",
       "0  cyclin dependent kinases cdks regulate variety...  \n",
       "1  abstract background non small cell lung cancer...  \n",
       "2  abstract background non small cell lung cancer...  \n",
       "3  recent evidence demonstrated acquired uniparen...  \n",
       "4  oncogenic mutations monomeric casitas b lineag...  "
      ]
     },
     "execution_count": 20,
     "metadata": {},
     "output_type": "execute_result"
    }
   ],
   "source": [
    "#merging both gene_variations and text data based on ID\n",
    "result = pd.merge(data, data_text,on='ID', how='left')\n",
    "result.head()"
   ]
  },
  {
   "cell_type": "markdown",
   "metadata": {},
   "source": [
    "<h3>3.1.4. Test, Train and Cross Validation Split</h3>"
   ]
  },
  {
   "cell_type": "markdown",
   "metadata": {},
   "source": [
    "<h4>3.1.4.1. Splitting data into train, test and cross validation (64:20:16)</h4>"
   ]
  },
  {
   "cell_type": "code",
   "execution_count": 21,
   "metadata": {
    "collapsed": true
   },
   "outputs": [],
   "source": [
    "y_true = result['Class'].values\n",
    "result.Gene      = result.Gene.str.replace('\\s+', '_')\n",
    "result.Variation = result.Variation.str.replace('\\s+', '_')\n",
    "\n",
    "# split the data into test and train by maintaining same distribution of output varaible 'y_true' [stratify=y_true]\n",
    "X_train, test_df, y_train, y_test = train_test_split(result, y_true, stratify=y_true, test_size=0.2)\n",
    "# split the train data into train and cross validation by maintaining same distribution of output varaible 'y_train' [stratify=y_train]\n",
    "train_df, cv_df, y_train, y_cv = train_test_split(X_train, y_train, stratify=y_train, test_size=0.2)"
   ]
  },
  {
   "cell_type": "markdown",
   "metadata": {},
   "source": [
    "<h4>3.1.4.2. Distribution of y_i's in Train, Test and Cross Validation datasets</h4>"
   ]
  },
  {
   "cell_type": "code",
   "execution_count": 22,
   "metadata": {},
   "outputs": [
    {
     "ename": "IndexError",
     "evalue": "only integers, slices (`:`), ellipsis (`...`), numpy.newaxis (`None`) and integer or boolean arrays are valid indices",
     "output_type": "error",
     "traceback": [
      "\u001b[1;31m---------------------------------------------------------------------------\u001b[0m",
      "\u001b[1;31mIndexError\u001b[0m                                Traceback (most recent call last)",
      "\u001b[1;32m<ipython-input-22-e51358d002f9>\u001b[0m in \u001b[0;36m<module>\u001b[1;34m()\u001b[0m\n\u001b[0;32m      1\u001b[0m \u001b[1;31m# it returns a dict, keys as class labels and values as the number of data points in that class\u001b[0m\u001b[1;33m\u001b[0m\u001b[1;33m\u001b[0m\u001b[0m\n\u001b[1;32m----> 2\u001b[1;33m \u001b[0mtrain_class_distribution\u001b[0m \u001b[1;33m=\u001b[0m \u001b[0my_train\u001b[0m\u001b[1;33m[\u001b[0m\u001b[1;34m'Class'\u001b[0m\u001b[1;33m]\u001b[0m\u001b[1;33m.\u001b[0m\u001b[0mvalue_counts\u001b[0m\u001b[1;33m(\u001b[0m\u001b[1;33m)\u001b[0m\u001b[1;33m.\u001b[0m\u001b[0msortlevel\u001b[0m\u001b[1;33m(\u001b[0m\u001b[1;33m)\u001b[0m\u001b[1;33m\u001b[0m\u001b[0m\n\u001b[0m\u001b[0;32m      3\u001b[0m \u001b[0mtest_class_distribution\u001b[0m \u001b[1;33m=\u001b[0m \u001b[0mtest_df\u001b[0m\u001b[1;33m[\u001b[0m\u001b[1;34m'Class'\u001b[0m\u001b[1;33m]\u001b[0m\u001b[1;33m.\u001b[0m\u001b[0mvalue_counts\u001b[0m\u001b[1;33m(\u001b[0m\u001b[1;33m)\u001b[0m\u001b[1;33m.\u001b[0m\u001b[0msortlevel\u001b[0m\u001b[1;33m(\u001b[0m\u001b[1;33m)\u001b[0m\u001b[1;33m\u001b[0m\u001b[0m\n\u001b[0;32m      4\u001b[0m \u001b[0mcv_class_distribution\u001b[0m \u001b[1;33m=\u001b[0m \u001b[0mcv_df\u001b[0m\u001b[1;33m[\u001b[0m\u001b[1;34m'Class'\u001b[0m\u001b[1;33m]\u001b[0m\u001b[1;33m.\u001b[0m\u001b[0mvalue_counts\u001b[0m\u001b[1;33m(\u001b[0m\u001b[1;33m)\u001b[0m\u001b[1;33m.\u001b[0m\u001b[0msortlevel\u001b[0m\u001b[1;33m(\u001b[0m\u001b[1;33m)\u001b[0m\u001b[1;33m\u001b[0m\u001b[0m\n\u001b[0;32m      5\u001b[0m \u001b[1;33m\u001b[0m\u001b[0m\n",
      "\u001b[1;31mIndexError\u001b[0m: only integers, slices (`:`), ellipsis (`...`), numpy.newaxis (`None`) and integer or boolean arrays are valid indices"
     ]
    }
   ],
   "source": [
    "# it returns a dict, keys as class labels and values as the number of data points in that class\n",
    "train_class_distribution = y_train['Class'].value_counts().sortlevel()\n",
    "test_class_distribution = test_df['Class'].value_counts().sortlevel()\n",
    "cv_class_distribution = cv_df['Class'].value_counts().sortlevel()\n",
    "\n",
    "my_colors = 'rgbkymc'\n",
    "train_class_distribution.plot(kind='bar', color=my_colors)\n",
    "plt.xlabel('Class')\n",
    "plt.ylabel('Data points per Class')\n",
    "plt.title('Distribution of yi in train data')\n",
    "plt.grid()\n",
    "plt.show()\n",
    "\n",
    "# ref: argsort https://docs.scipy.org/doc/numpy/reference/generated/numpy.argsort.html\n",
    "# -(train_class_distribution.values): the minus sign will give us in decreasing order\n",
    "sorted_yi = np.argsort(-train_class_distribution.values)\n",
    "for i in sorted_yi:\n",
    "    print('Number of data points in class', i+1, ':',train_class_distribution.values[i], '(', np.round((train_class_distribution.values[i]/train_df.shape[0]*100), 3), '%)')\n",
    "\n",
    "    \n",
    "print('-'*80)\n",
    "my_colors = 'rgbkymc'\n",
    "test_class_distribution.plot(kind='bar', color=my_colors)\n",
    "plt.xlabel('Class')\n",
    "plt.ylabel('Data points per Class')\n",
    "plt.title('Distribution of yi in test data')\n",
    "plt.grid()\n",
    "plt.show()\n",
    "\n",
    "# ref: argsort https://docs.scipy.org/doc/numpy/reference/generated/numpy.argsort.html\n",
    "# -(train_class_distribution.values): the minus sign will give us in decreasing order\n",
    "sorted_yi = np.argsort(-test_class_distribution.values)\n",
    "for i in sorted_yi:\n",
    "    print('Number of data points in class', i+1, ':',test_class_distribution.values[i], '(', np.round((test_class_distribution.values[i]/test_df.shape[0]*100), 3), '%)')\n",
    "\n",
    "print('-'*80)\n",
    "my_colors = 'rgbkymc'\n",
    "cv_class_distribution.plot(kind='bar', color=my_colors)\n",
    "plt.xlabel('Class')\n",
    "plt.ylabel('Data points per Class')\n",
    "plt.title('Distribution of yi in cross validation data')\n",
    "plt.grid()\n",
    "plt.show()\n",
    "\n",
    "# ref: argsort https://docs.scipy.org/doc/numpy/reference/generated/numpy.argsort.html\n",
    "# -(train_class_distribution.values): the minus sign will give us in decreasing order\n",
    "sorted_yi = np.argsort(-train_class_distribution.values)\n",
    "for i in sorted_yi:\n",
    "    print('Number of data points in class', i+1, ':',cv_class_distribution.values[i], '(', np.round((cv_class_distribution.values[i]/cv_df.shape[0]*100), 3), '%)')\n"
   ]
  },
  {
   "cell_type": "code",
   "execution_count": 72,
   "metadata": {
    "collapsed": true
   },
   "outputs": [],
   "source": [
    "# one-hot encoding of Gene feature.\n",
    "gene_vectorizer = CountVectorizer()\n",
    "train_gene_feature_onehotCoding = gene_vectorizer.fit_transform(train_df['Gene'])\n",
    "test_gene_feature_onehotCoding = gene_vectorizer.transform(test_df['Gene'])\n",
    "cv_gene_feature_onehotCoding = gene_vectorizer.transform(cv_df['Gene'])"
   ]
  },
  {
   "cell_type": "code",
   "execution_count": 73,
   "metadata": {},
   "outputs": [
    {
     "data": {
      "text/plain": [
       "254       EGFR\n",
       "649     CDKN2A\n",
       "2659     BRCA1\n",
       "1526       ALK\n",
       "2472     BRCA1\n",
       "Name: Gene, dtype: object"
      ]
     },
     "execution_count": 73,
     "metadata": {},
     "output_type": "execute_result"
    }
   ],
   "source": [
    "train_df['Gene'].head()"
   ]
  },
  {
   "cell_type": "code",
   "execution_count": 74,
   "metadata": {},
   "outputs": [
    {
     "data": {
      "text/plain": [
       "['abl1',\n",
       " 'acvr1',\n",
       " 'ago2',\n",
       " 'akt1',\n",
       " 'akt2',\n",
       " 'akt3',\n",
       " 'alk',\n",
       " 'apc',\n",
       " 'ar',\n",
       " 'araf',\n",
       " 'arid1a',\n",
       " 'arid1b',\n",
       " 'arid2',\n",
       " 'arid5b',\n",
       " 'asxl1',\n",
       " 'asxl2',\n",
       " 'atm',\n",
       " 'atrx',\n",
       " 'axl',\n",
       " 'b2m',\n",
       " 'bap1',\n",
       " 'bard1',\n",
       " 'bcl10',\n",
       " 'bcl2',\n",
       " 'bcl2l11',\n",
       " 'bcor',\n",
       " 'braf',\n",
       " 'brca1',\n",
       " 'brca2',\n",
       " 'brd4',\n",
       " 'brip1',\n",
       " 'btk',\n",
       " 'card11',\n",
       " 'carm1',\n",
       " 'casp8',\n",
       " 'cbl',\n",
       " 'ccnd1',\n",
       " 'ccnd2',\n",
       " 'ccnd3',\n",
       " 'ccne1',\n",
       " 'cdh1',\n",
       " 'cdk12',\n",
       " 'cdk4',\n",
       " 'cdk6',\n",
       " 'cdk8',\n",
       " 'cdkn1a',\n",
       " 'cdkn1b',\n",
       " 'cdkn2a',\n",
       " 'cdkn2b',\n",
       " 'chek2',\n",
       " 'cic',\n",
       " 'crebbp',\n",
       " 'ctcf',\n",
       " 'ctla4',\n",
       " 'ctnnb1',\n",
       " 'ddr2',\n",
       " 'dicer1',\n",
       " 'dnmt3a',\n",
       " 'dnmt3b',\n",
       " 'dusp4',\n",
       " 'egfr',\n",
       " 'elf3',\n",
       " 'ep300',\n",
       " 'epas1',\n",
       " 'erbb2',\n",
       " 'erbb3',\n",
       " 'erbb4',\n",
       " 'ercc2',\n",
       " 'ercc3',\n",
       " 'ercc4',\n",
       " 'erg',\n",
       " 'esr1',\n",
       " 'etv1',\n",
       " 'etv6',\n",
       " 'ewsr1',\n",
       " 'ezh2',\n",
       " 'fam58a',\n",
       " 'fanca',\n",
       " 'fancc',\n",
       " 'fat1',\n",
       " 'fbxw7',\n",
       " 'fgf19',\n",
       " 'fgf3',\n",
       " 'fgf4',\n",
       " 'fgfr1',\n",
       " 'fgfr2',\n",
       " 'fgfr3',\n",
       " 'fgfr4',\n",
       " 'flt1',\n",
       " 'flt3',\n",
       " 'foxa1',\n",
       " 'foxl2',\n",
       " 'foxo1',\n",
       " 'foxp1',\n",
       " 'fubp1',\n",
       " 'gata3',\n",
       " 'gna11',\n",
       " 'gnaq',\n",
       " 'gnas',\n",
       " 'h3f3a',\n",
       " 'hist1h1c',\n",
       " 'hla',\n",
       " 'hnf1a',\n",
       " 'hras',\n",
       " 'idh1',\n",
       " 'idh2',\n",
       " 'igf1r',\n",
       " 'il7r',\n",
       " 'inpp4b',\n",
       " 'jak1',\n",
       " 'jak2',\n",
       " 'jun',\n",
       " 'kdm5c',\n",
       " 'kdm6a',\n",
       " 'kdr',\n",
       " 'keap1',\n",
       " 'kit',\n",
       " 'klf4',\n",
       " 'kmt2a',\n",
       " 'kmt2b',\n",
       " 'kmt2c',\n",
       " 'kmt2d',\n",
       " 'knstrn',\n",
       " 'kras',\n",
       " 'lats1',\n",
       " 'lats2',\n",
       " 'map2k1',\n",
       " 'map2k2',\n",
       " 'map2k4',\n",
       " 'map3k1',\n",
       " 'mapk1',\n",
       " 'mdm2',\n",
       " 'med12',\n",
       " 'mef2b',\n",
       " 'met',\n",
       " 'mga',\n",
       " 'mlh1',\n",
       " 'mpl',\n",
       " 'msh2',\n",
       " 'msh6',\n",
       " 'mtor',\n",
       " 'myc',\n",
       " 'myd88',\n",
       " 'myod1',\n",
       " 'nf1',\n",
       " 'nf2',\n",
       " 'nfe2l2',\n",
       " 'nfkbia',\n",
       " 'nkx2',\n",
       " 'notch1',\n",
       " 'notch2',\n",
       " 'npm1',\n",
       " 'nras',\n",
       " 'nsd1',\n",
       " 'ntrk1',\n",
       " 'ntrk2',\n",
       " 'ntrk3',\n",
       " 'nup93',\n",
       " 'pak1',\n",
       " 'pax8',\n",
       " 'pbrm1',\n",
       " 'pdgfra',\n",
       " 'pdgfrb',\n",
       " 'pik3ca',\n",
       " 'pik3cb',\n",
       " 'pik3r1',\n",
       " 'pik3r2',\n",
       " 'pik3r3',\n",
       " 'pim1',\n",
       " 'pms1',\n",
       " 'pms2',\n",
       " 'pole',\n",
       " 'ppm1d',\n",
       " 'ppp2r1a',\n",
       " 'ppp6c',\n",
       " 'prdm1',\n",
       " 'ptch1',\n",
       " 'pten',\n",
       " 'ptpn11',\n",
       " 'ptprd',\n",
       " 'ptprt',\n",
       " 'rab35',\n",
       " 'rac1',\n",
       " 'rad21',\n",
       " 'rad50',\n",
       " 'rad51b',\n",
       " 'rad51c',\n",
       " 'rad51d',\n",
       " 'raf1',\n",
       " 'rara',\n",
       " 'rasa1',\n",
       " 'rb1',\n",
       " 'rbm10',\n",
       " 'ret',\n",
       " 'rheb',\n",
       " 'rhoa',\n",
       " 'rictor',\n",
       " 'rit1',\n",
       " 'rnf43',\n",
       " 'ros1',\n",
       " 'rras2',\n",
       " 'runx1',\n",
       " 'rxra',\n",
       " 'setd2',\n",
       " 'sf3b1',\n",
       " 'shoc2',\n",
       " 'shq1',\n",
       " 'smad2',\n",
       " 'smad3',\n",
       " 'smad4',\n",
       " 'smarca4',\n",
       " 'smarcb1',\n",
       " 'smo',\n",
       " 'sos1',\n",
       " 'sox9',\n",
       " 'spop',\n",
       " 'src',\n",
       " 'srsf2',\n",
       " 'stag2',\n",
       " 'stat3',\n",
       " 'stk11',\n",
       " 'tcf3',\n",
       " 'tcf7l2',\n",
       " 'tert',\n",
       " 'tet1',\n",
       " 'tet2',\n",
       " 'tgfbr1',\n",
       " 'tgfbr2',\n",
       " 'tmprss2',\n",
       " 'tp53',\n",
       " 'tsc1',\n",
       " 'tsc2',\n",
       " 'u2af1',\n",
       " 'vhl',\n",
       " 'whsc1l1',\n",
       " 'xpo1',\n",
       " 'xrcc2',\n",
       " 'yap1']"
      ]
     },
     "execution_count": 74,
     "metadata": {},
     "output_type": "execute_result"
    }
   ],
   "source": [
    "gene_vectorizer.get_feature_names()"
   ]
  },
  {
   "cell_type": "code",
   "execution_count": 75,
   "metadata": {},
   "outputs": [
    {
     "name": "stdout",
     "output_type": "stream",
     "text": [
      "train_gene_feature_onehotCoding is converted feature using one-hot encoding method. The shape of gene feature: (2124, 238)\n"
     ]
    }
   ],
   "source": [
    "print(\"train_gene_feature_onehotCoding is converted feature using one-hot encoding method. The shape of gene feature:\", train_gene_feature_onehotCoding.shape)"
   ]
  },
  {
   "cell_type": "code",
   "execution_count": 76,
   "metadata": {},
   "outputs": [
    {
     "name": "stdout",
     "output_type": "stream",
     "text": [
      "Number of Unique Variations : 1932\n",
      "Truncating_Mutations         57\n",
      "Deletion                     48\n",
      "Amplification                44\n",
      "Fusions                      19\n",
      "Q61H                          3\n",
      "Q61R                          3\n",
      "I31M                          2\n",
      "Q61L                          2\n",
      "G35R                          2\n",
      "Promoter_Hypermethylation     2\n",
      "Name: Variation, dtype: int64\n"
     ]
    }
   ],
   "source": [
    "# Univariate Analysis on Variation Feature\n",
    "unique_variations = train_df['Variation'].value_counts()\n",
    "print('Number of Unique Variations :', unique_variations.shape[0])\n",
    "# the top 10 variations that occured most\n",
    "print(unique_variations.head(10))"
   ]
  },
  {
   "cell_type": "code",
   "execution_count": 77,
   "metadata": {
    "scrolled": true
   },
   "outputs": [
    {
     "name": "stdout",
     "output_type": "stream",
     "text": [
      "Ans: There are 1932 different categories of variations in the train data, and they are distibuted as follows\n"
     ]
    }
   ],
   "source": [
    "print(\"Ans: There are\", unique_variations.shape[0] ,\"different categories of variations in the train data, and they are distibuted as follows\",)"
   ]
  },
  {
   "cell_type": "code",
   "execution_count": 80,
   "metadata": {
    "collapsed": true
   },
   "outputs": [],
   "source": [
    "# one-hot encoding of variation feature.\n",
    "variation_vectorizer = CountVectorizer()\n",
    "train_variation_feature_onehotCoding = variation_vectorizer.fit_transform(train_df['Variation'])\n",
    "test_variation_feature_onehotCoding = variation_vectorizer.transform(test_df['Variation'])\n",
    "cv_variation_feature_onehotCoding = variation_vectorizer.transform(cv_df['Variation'])"
   ]
  },
  {
   "cell_type": "code",
   "execution_count": 81,
   "metadata": {},
   "outputs": [
    {
     "name": "stdout",
     "output_type": "stream",
     "text": [
      "train_variation_feature_onehotEncoded is converted feature using the onne-hot encoding method. The shape of Variation feature: (2124, 1956)\n"
     ]
    }
   ],
   "source": [
    "print(\"train_variation_feature_onehotEncoded is converted feature using the onne-hot encoding method. The shape of Variation feature:\", train_variation_feature_onehotCoding.shape)"
   ]
  },
  {
   "cell_type": "code",
   "execution_count": 82,
   "metadata": {
    "collapsed": true
   },
   "outputs": [],
   "source": [
    "# cls_text is a data frame\n",
    "# for every row in data fram consider the 'TEXT'\n",
    "# split the words by space\n",
    "# make a dict with those words\n",
    "# increment its count whenever we see that word\n",
    "from collections import defaultdict\n",
    "def extract_dictionary_paddle(cls_text):\n",
    "    dictionary = defaultdict(int)\n",
    "    for index, row in cls_text.iterrows():\n",
    "        for word in row['TEXT'].split():\n",
    "            dictionary[word] +=1\n",
    "    return dictionary"
   ]
  },
  {
   "cell_type": "code",
   "execution_count": 84,
   "metadata": {},
   "outputs": [
    {
     "name": "stdout",
     "output_type": "stream",
     "text": [
      "Total number of unique words in train data : 53629\n"
     ]
    }
   ],
   "source": [
    "# building a CountVectorizer with all the words that occured minimum 3 times in train data\n",
    "text_vectorizer = CountVectorizer(min_df=3)\n",
    "train_text_feature_onehotCoding = text_vectorizer.fit_transform(train_df['TEXT'])\n",
    "# getting all the feature names (words)\n",
    "train_text_features= text_vectorizer.get_feature_names()\n",
    "\n",
    "# train_text_feature_onehotCoding.sum(axis=0).A1 will sum every row and returns (1*number of features) vector\n",
    "train_text_fea_counts = train_text_feature_onehotCoding.sum(axis=0).A1\n",
    "\n",
    "# zip(list(text_features),text_fea_counts) will zip a word with its number of times it occured\n",
    "text_fea_dict = dict(zip(list(train_text_features),train_text_fea_counts))\n",
    "\n",
    "\n",
    "print(\"Total number of unique words in train data :\", len(train_text_features))"
   ]
  },
  {
   "cell_type": "code",
   "execution_count": 85,
   "metadata": {
    "collapsed": true
   },
   "outputs": [],
   "source": [
    "dict_list = []\n",
    "# dict_list =[] contains 9 dictoinaries each corresponds to a class\n",
    "for i in range(1,10):\n",
    "    cls_text = train_df[train_df['Class']==i]\n",
    "    # build a word dict based on the words in that class\n",
    "    dict_list.append(extract_dictionary_paddle(cls_text))\n",
    "    # append it to dict_list\n",
    "\n",
    "# dict_list[i] is build on i'th  class text data\n",
    "# total_dict is buid on whole training text data\n",
    "total_dict = extract_dictionary_paddle(train_df)\n",
    "\n",
    "\n",
    "confuse_array = []\n",
    "for i in train_text_features:\n",
    "    ratios = []\n",
    "    max_val = -1\n",
    "    for j in range(0,9):\n",
    "        ratios.append((dict_list[j][i]+10 )/(total_dict[i]+90))\n",
    "    confuse_array.append(ratios)\n",
    "confuse_array = np.array(confuse_array)"
   ]
  },
  {
   "cell_type": "code",
   "execution_count": 88,
   "metadata": {
    "collapsed": true
   },
   "outputs": [],
   "source": [
    "# don't forget to normalize every feature\n",
    "train_text_feature_onehotCoding = normalize(train_text_feature_onehotCoding, axis=0)\n",
    "\n",
    "# we use the same vectorizer that was trained on train data\n",
    "test_text_feature_onehotCoding = text_vectorizer.transform(test_df['TEXT'])\n",
    "# don't forget to normalize every feature\n",
    "test_text_feature_onehotCoding = normalize(test_text_feature_onehotCoding, axis=0)\n",
    "\n",
    "# we use the same vectorizer that was trained on train data\n",
    "cv_text_feature_onehotCoding = text_vectorizer.transform(cv_df['TEXT'])\n",
    "# don't forget to normalize every feature\n",
    "cv_text_feature_onehotCoding = normalize(cv_text_feature_onehotCoding, axis=0)"
   ]
  },
  {
   "cell_type": "code",
   "execution_count": 89,
   "metadata": {
    "collapsed": true
   },
   "outputs": [],
   "source": [
    "sorted_text_fea_dict = dict(sorted(text_fea_dict.items(), key=lambda x: x[1] , reverse=True))\n",
    "sorted_text_occur = np.array(list(sorted_text_fea_dict.values()))"
   ]
  },
  {
   "cell_type": "markdown",
   "metadata": {},
   "source": [
    "<h1>4. Machine Learning Models</h1>"
   ]
  },
  {
   "cell_type": "code",
   "execution_count": 128,
   "metadata": {
    "collapsed": true
   },
   "outputs": [],
   "source": [
    "'''def predict_and_plot_confusion_matrix(train_x, train_y,test_x, test_y, clf):\n",
    "    clf.fit(train_x, train_y)\n",
    "    sig_clf = CalibratedClassifierCV(clf, method=\"sigmoid\")\n",
    "    sig_clf.fit(train_x, train_y)\n",
    "    pred_y = sig_clf.predict(test_x)\n",
    "\n",
    "    # for calculating log_loss we willl provide the array of probabilities belongs to each class\n",
    "    print(\"Log loss :\",log_loss(test_y, sig_clf.predict_proba(test_x)))\n",
    "    # calculating the number of data points that are misclassified\n",
    "    print(\"Number of mis-classified points :\", np.count_nonzero((pred_y- test_y))/test_y.shape[0])\n",
    "    plot_confusion_matrix(test_y, pred_y)'''"
   ]
  },
  {
   "cell_type": "code",
   "execution_count": 129,
   "metadata": {
    "collapsed": true
   },
   "outputs": [],
   "source": [
    "'''def report_log_loss(train_x, train_y, test_x, test_y,  clf):\n",
    "    clf.fit(train_x, train_y)\n",
    "    sig_clf = CalibratedClassifierCV(clf, method=\"sigmoid\")\n",
    "    sig_clf.fit(train_x, train_y)\n",
    "    sig_clf_probs = sig_clf.predict_proba(test_x)\n",
    "    return log_loss(test_y, sig_clf_probs, eps=1e-15)'''"
   ]
  },
  {
   "cell_type": "code",
   "execution_count": 134,
   "metadata": {},
   "outputs": [
    {
     "data": {
      "text/plain": [
       "'# this function will be used just for naive bayes\\n# for the given indices, we will print the name of the features\\n# and we will check whether the feature present in the test point text or not\\ndef get_impfeature_names(indices, text, gene, var, no_features):\\n    gene_count_vec = CountVectorizer()\\n    var_count_vec = CountVectorizer()\\n    text_count_vec = CountVectorizer(min_df=3)\\n    \\n    gene_vec = gene_count_vec.fit(train_df[\\'Gene\\'])\\n    var_vec  = var_count_vec.fit(train_df[\\'Variation\\'])\\n    text_vec = text_count_vec.fit(train_df[\\'TEXT\\'])\\n    \\n    fea1_len = len(gene_vec.get_feature_names())\\n    fea2_len = len(var_count_vec.get_feature_names())\\n    \\n    word_present = 0\\n    for i,v in enumerate(indices):\\n        if (v < fea1_len):\\n            word = gene_vec.get_feature_names()[v]\\n            yes_no = True if word == gene else False\\n            if yes_no:\\n                word_present += 1\\n                print(i, \"Gene feature [{}] present in test data point [{}]\".format(word,yes_no))\\n        elif (v < fea1_len+fea2_len):\\n            word = var_vec.get_feature_names()[v-(fea1_len)]\\n            yes_no = True if word == var else False\\n            if yes_no:\\n                word_present += 1\\n                print(i, \"variation feature [{}] present in test data point [{}]\".format(word,yes_no))\\n        else:\\n            word = text_vec.get_feature_names()[v-(fea1_len+fea2_len)]\\n            yes_no = True if word in text.split() else False\\n            if yes_no:\\n                word_present += 1\\n                print(i, \"Text feature [{}] present in test data point [{}]\".format(word,yes_no))\\n\\n    print(\"Out of the top \",no_features,\" features \", word_present, \"are present in query point\")'"
      ]
     },
     "execution_count": 134,
     "metadata": {},
     "output_type": "execute_result"
    }
   ],
   "source": [
    "'''# this function will be used just for naive bayes\n",
    "# for the given indices, we will print the name of the features\n",
    "# and we will check whether the feature present in the test point text or not\n",
    "def get_impfeature_names(indices, text, gene, var, no_features):\n",
    "    gene_count_vec = CountVectorizer()\n",
    "    var_count_vec = CountVectorizer()\n",
    "    text_count_vec = CountVectorizer(min_df=3)\n",
    "    \n",
    "    gene_vec = gene_count_vec.fit(train_df['Gene'])\n",
    "    var_vec  = var_count_vec.fit(train_df['Variation'])\n",
    "    text_vec = text_count_vec.fit(train_df['TEXT'])\n",
    "    \n",
    "    fea1_len = len(gene_vec.get_feature_names())\n",
    "    fea2_len = len(var_count_vec.get_feature_names())\n",
    "    \n",
    "    word_present = 0\n",
    "    for i,v in enumerate(indices):\n",
    "        if (v < fea1_len):\n",
    "            word = gene_vec.get_feature_names()[v]\n",
    "            yes_no = True if word == gene else False\n",
    "            if yes_no:\n",
    "                word_present += 1\n",
    "                print(i, \"Gene feature [{}] present in test data point [{}]\".format(word,yes_no))\n",
    "        elif (v < fea1_len+fea2_len):\n",
    "            word = var_vec.get_feature_names()[v-(fea1_len)]\n",
    "            yes_no = True if word == var else False\n",
    "            if yes_no:\n",
    "                word_present += 1\n",
    "                print(i, \"variation feature [{}] present in test data point [{}]\".format(word,yes_no))\n",
    "        else:\n",
    "            word = text_vec.get_feature_names()[v-(fea1_len+fea2_len)]\n",
    "            yes_no = True if word in text.split() else False\n",
    "            if yes_no:\n",
    "                word_present += 1\n",
    "                print(i, \"Text feature [{}] present in test data point [{}]\".format(word,yes_no))\n",
    "\n",
    "    print(\"Out of the top \",no_features,\" features \", word_present, \"are present in query point\")'''"
   ]
  },
  {
   "cell_type": "markdown",
   "metadata": {},
   "source": [
    "<p style=\"font-size:24px;text-align:Center\"> <b>Stacking the three types of features </b><p>"
   ]
  },
  {
   "cell_type": "code",
   "execution_count": 135,
   "metadata": {
    "collapsed": true
   },
   "outputs": [],
   "source": [
    "# merging gene, variance and text features\n",
    "\n",
    "# building train, test and cross validation data sets\n",
    "# a = [[1, 2], \n",
    "#      [3, 4]]\n",
    "# b = [[4, 5], \n",
    "#      [6, 7]]\n",
    "# hstack(a, b) = [[1, 2, 4, 5],\n",
    "#                [ 3, 4, 6, 7]]\n",
    "\n",
    "train_gene_var_onehotCoding = hstack((train_gene_feature_onehotCoding,train_variation_feature_onehotCoding))\n",
    "test_gene_var_onehotCoding = hstack((test_gene_feature_onehotCoding,test_variation_feature_onehotCoding))\n",
    "cv_gene_var_onehotCoding = hstack((cv_gene_feature_onehotCoding,cv_variation_feature_onehotCoding))\n",
    "\n",
    "train_x_onehotCoding = hstack((train_gene_var_onehotCoding, train_text_feature_onehotCoding)).tocsr()\n",
    "train_y = np.array(list(train_df['Class']))\n",
    "\n",
    "test_x_onehotCoding = hstack((test_gene_var_onehotCoding, test_text_feature_onehotCoding)).tocsr()\n",
    "test_y = np.array(list(test_df['Class']))\n",
    "\n",
    "cv_x_onehotCoding = hstack((cv_gene_var_onehotCoding, cv_text_feature_onehotCoding)).tocsr()\n",
    "cv_y = np.array(list(cv_df['Class']))\n"
   ]
  },
  {
   "cell_type": "code",
   "execution_count": 136,
   "metadata": {},
   "outputs": [
    {
     "name": "stdout",
     "output_type": "stream",
     "text": [
      "One hot encoding features :\n",
      "(number of data points * number of features) in train data =  (2124, 55823)\n",
      "(number of data points * number of features) in test data =  (1, 55823)\n",
      "(number of data points * number of features) in cross validation data = (532, 55823)\n"
     ]
    }
   ],
   "source": [
    "print(\"One hot encoding features :\")\n",
    "print(\"(number of data points * number of features) in train data = \", train_x_onehotCoding.shape)\n",
    "print(\"(number of data points * number of features) in test data = \", test_x_onehotCoding.shape)\n",
    "print(\"(number of data points * number of features) in cross validation data =\", cv_x_onehotCoding.shape)"
   ]
  },
  {
   "cell_type": "markdown",
   "metadata": {},
   "source": [
    "<h2>4.1. Base Line Model</h2>"
   ]
  },
  {
   "cell_type": "markdown",
   "metadata": {},
   "source": [
    "<h3>4.1.1. Naive Bayes</h3>"
   ]
  },
  {
   "cell_type": "markdown",
   "metadata": {},
   "source": [
    "<h4>4.1.1.1. Hyper parameter tuning</h4>"
   ]
  },
  {
   "cell_type": "code",
   "execution_count": 137,
   "metadata": {},
   "outputs": [
    {
     "name": "stdout",
     "output_type": "stream",
     "text": [
      "for alpha = 1e-05\n",
      "Log Loss : 1.2708341718618892\n",
      "for alpha = 0.0001\n",
      "Log Loss : 1.2645842911515301\n",
      "for alpha = 0.001\n",
      "Log Loss : 1.2598100071231728\n",
      "for alpha = 0.1\n",
      "Log Loss : 1.2789616979481075\n",
      "for alpha = 1\n",
      "Log Loss : 1.3149195559275548\n",
      "for alpha = 10\n",
      "Log Loss : 1.4004347356707965\n",
      "for alpha = 100\n",
      "Log Loss : 1.392705604776309\n",
      "for alpha = 1000\n",
      "Log Loss : 1.3570052702365614\n"
     ]
    },
    {
     "data": {
      "image/png": "[encoded data removed]",
      "text/plain": [
       "<matplotlib.figure.Figure at 0xfabeae160>"
      ]
     },
     "metadata": {},
     "output_type": "display_data"
    },
    {
     "name": "stdout",
     "output_type": "stream",
     "text": [
      "For values of best alpha =  0.001 The train log loss is: 0.8852557740393161\n",
      "For values of best alpha =  0.001 The cross validation log loss is: 1.2598100071231728\n"
     ]
    },
    {
     "ename": "ValueError",
     "evalue": "Found input variables with inconsistent numbers of samples: [1, 665]",
     "output_type": "error",
     "traceback": [
      "\u001b[1;31m---------------------------------------------------------------------------\u001b[0m",
      "\u001b[1;31mValueError\u001b[0m                                Traceback (most recent call last)",
      "\u001b[1;32m<ipython-input-137-17c472817c3b>\u001b[0m in \u001b[0;36m<module>\u001b[1;34m()\u001b[0m\n\u001b[0;32m     38\u001b[0m \u001b[0mprint\u001b[0m\u001b[1;33m(\u001b[0m\u001b[1;34m'For values of best alpha = '\u001b[0m\u001b[1;33m,\u001b[0m \u001b[0malpha\u001b[0m\u001b[1;33m[\u001b[0m\u001b[0mbest_alpha\u001b[0m\u001b[1;33m]\u001b[0m\u001b[1;33m,\u001b[0m \u001b[1;34m\"The cross validation log loss is:\"\u001b[0m\u001b[1;33m,\u001b[0m\u001b[0mlog_loss\u001b[0m\u001b[1;33m(\u001b[0m\u001b[0my_cv\u001b[0m\u001b[1;33m,\u001b[0m \u001b[0mpredict_y\u001b[0m\u001b[1;33m,\u001b[0m \u001b[0mlabels\u001b[0m\u001b[1;33m=\u001b[0m\u001b[0mclf\u001b[0m\u001b[1;33m.\u001b[0m\u001b[0mclasses_\u001b[0m\u001b[1;33m,\u001b[0m \u001b[0meps\u001b[0m\u001b[1;33m=\u001b[0m\u001b[1;36m1e-15\u001b[0m\u001b[1;33m)\u001b[0m\u001b[1;33m)\u001b[0m\u001b[1;33m\u001b[0m\u001b[0m\n\u001b[0;32m     39\u001b[0m \u001b[0mpredict_y\u001b[0m \u001b[1;33m=\u001b[0m \u001b[0msig_clf\u001b[0m\u001b[1;33m.\u001b[0m\u001b[0mpredict_proba\u001b[0m\u001b[1;33m(\u001b[0m\u001b[0mtest_x_onehotCoding\u001b[0m\u001b[1;33m)\u001b[0m\u001b[1;33m\u001b[0m\u001b[0m\n\u001b[1;32m---> 40\u001b[1;33m \u001b[0mprint\u001b[0m\u001b[1;33m(\u001b[0m\u001b[1;34m'For values of best alpha = '\u001b[0m\u001b[1;33m,\u001b[0m \u001b[0malpha\u001b[0m\u001b[1;33m[\u001b[0m\u001b[0mbest_alpha\u001b[0m\u001b[1;33m]\u001b[0m\u001b[1;33m,\u001b[0m \u001b[1;34m\"The test log loss is:\"\u001b[0m\u001b[1;33m,\u001b[0m\u001b[0mlog_loss\u001b[0m\u001b[1;33m(\u001b[0m\u001b[0my_test\u001b[0m\u001b[1;33m,\u001b[0m \u001b[0mpredict_y\u001b[0m\u001b[1;33m,\u001b[0m \u001b[0mlabels\u001b[0m\u001b[1;33m=\u001b[0m\u001b[0mclf\u001b[0m\u001b[1;33m.\u001b[0m\u001b[0mclasses_\u001b[0m\u001b[1;33m,\u001b[0m \u001b[0meps\u001b[0m\u001b[1;33m=\u001b[0m\u001b[1;36m1e-15\u001b[0m\u001b[1;33m)\u001b[0m\u001b[1;33m)\u001b[0m\u001b[1;33m\u001b[0m\u001b[0m\n\u001b[0m",
      "\u001b[1;32mC:\\Users\\shani\\Anaconda3\\lib\\site-packages\\sklearn\\metrics\\classification.py\u001b[0m in \u001b[0;36mlog_loss\u001b[1;34m(y_true, y_pred, eps, normalize, sample_weight, labels)\u001b[0m\n\u001b[0;32m   1639\u001b[0m     \"\"\"\n\u001b[0;32m   1640\u001b[0m     \u001b[0my_pred\u001b[0m \u001b[1;33m=\u001b[0m \u001b[0mcheck_array\u001b[0m\u001b[1;33m(\u001b[0m\u001b[0my_pred\u001b[0m\u001b[1;33m,\u001b[0m \u001b[0mensure_2d\u001b[0m\u001b[1;33m=\u001b[0m\u001b[1;32mFalse\u001b[0m\u001b[1;33m)\u001b[0m\u001b[1;33m\u001b[0m\u001b[0m\n\u001b[1;32m-> 1641\u001b[1;33m     \u001b[0mcheck_consistent_length\u001b[0m\u001b[1;33m(\u001b[0m\u001b[0my_pred\u001b[0m\u001b[1;33m,\u001b[0m \u001b[0my_true\u001b[0m\u001b[1;33m)\u001b[0m\u001b[1;33m\u001b[0m\u001b[0m\n\u001b[0m\u001b[0;32m   1642\u001b[0m \u001b[1;33m\u001b[0m\u001b[0m\n\u001b[0;32m   1643\u001b[0m     \u001b[0mlb\u001b[0m \u001b[1;33m=\u001b[0m \u001b[0mLabelBinarizer\u001b[0m\u001b[1;33m(\u001b[0m\u001b[1;33m)\u001b[0m\u001b[1;33m\u001b[0m\u001b[0m\n",
      "\u001b[1;32mC:\\Users\\shani\\Anaconda3\\lib\\site-packages\\sklearn\\utils\\validation.py\u001b[0m in \u001b[0;36mcheck_consistent_length\u001b[1;34m(*arrays)\u001b[0m\n\u001b[0;32m    202\u001b[0m     \u001b[1;32mif\u001b[0m \u001b[0mlen\u001b[0m\u001b[1;33m(\u001b[0m\u001b[0muniques\u001b[0m\u001b[1;33m)\u001b[0m \u001b[1;33m>\u001b[0m \u001b[1;36m1\u001b[0m\u001b[1;33m:\u001b[0m\u001b[1;33m\u001b[0m\u001b[0m\n\u001b[0;32m    203\u001b[0m         raise ValueError(\"Found input variables with inconsistent numbers of\"\n\u001b[1;32m--> 204\u001b[1;33m                          \" samples: %r\" % [int(l) for l in lengths])\n\u001b[0m\u001b[0;32m    205\u001b[0m \u001b[1;33m\u001b[0m\u001b[0m\n\u001b[0;32m    206\u001b[0m \u001b[1;33m\u001b[0m\u001b[0m\n",
      "\u001b[1;31mValueError\u001b[0m: Found input variables with inconsistent numbers of samples: [1, 665]"
     ]
    }
   ],
   "source": [
    "from sklearn.calibration import CalibratedClassifierCV\n",
    "\n",
    "alpha = [0.00001, 0.0001, 0.001, 0.1, 1, 10, 100,1000]\n",
    "cv_log_error_array = []\n",
    "for i in alpha:\n",
    "    print(\"for alpha =\", i)\n",
    "    clf = MultinomialNB(alpha=i)\n",
    "    clf.fit(train_x_onehotCoding, train_y)\n",
    "    sig_clf = CalibratedClassifierCV(clf, method=\"sigmoid\")\n",
    "    sig_clf.fit(train_x_onehotCoding, train_y)\n",
    "    sig_clf_probs = sig_clf.predict_proba(cv_x_onehotCoding)\n",
    "    cv_log_error_array.append(log_loss(cv_y, sig_clf_probs, labels=clf.classes_, eps=1e-15))\n",
    "    # to avoid rounding error while multiplying probabilites we use log-probability estimates\n",
    "    print(\"Log Loss :\",log_loss(cv_y, sig_clf_probs)) \n",
    "\n",
    "fig, ax = plt.subplots()\n",
    "ax.plot(np.log10(alpha), cv_log_error_array,c='g')\n",
    "for i, txt in enumerate(np.round(cv_log_error_array,3)):\n",
    "    ax.annotate((alpha[i],str(txt)), (np.log10(alpha[i]),cv_log_error_array[i]))\n",
    "plt.grid()\n",
    "plt.xticks(np.log10(alpha))\n",
    "plt.title(\"Cross Validation Error for each alpha\")\n",
    "plt.xlabel(\"Alpha i's\")\n",
    "plt.ylabel(\"Error measure\")\n",
    "plt.show()\n",
    "\n",
    "\n",
    "best_alpha = np.argmin(cv_log_error_array)\n",
    "clf = MultinomialNB(alpha=alpha[best_alpha])\n",
    "clf.fit(train_x_onehotCoding, train_y)\n",
    "sig_clf = CalibratedClassifierCV(clf, method=\"sigmoid\")\n",
    "sig_clf.fit(train_x_onehotCoding, train_y)\n",
    "\n",
    "\n",
    "predict_y = sig_clf.predict_proba(train_x_onehotCoding)\n",
    "print('For values of best alpha = ', alpha[best_alpha], \"The train log loss is:\",log_loss(y_train, predict_y, labels=clf.classes_, eps=1e-15))\n",
    "predict_y = sig_clf.predict_proba(cv_x_onehotCoding)\n",
    "print('For values of best alpha = ', alpha[best_alpha], \"The cross validation log loss is:\",log_loss(y_cv, predict_y, labels=clf.classes_, eps=1e-15))\n",
    "predict_y = sig_clf.predict_proba(test_x_onehotCoding)\n",
    "print('For values of best alpha = ', alpha[best_alpha], \"The test log loss is:\",log_loss(y_test, predict_y, labels=clf.classes_, eps=1e-15))\n"
   ]
  },
  {
   "cell_type": "markdown",
   "metadata": {},
   "source": [
    "<h4>4.1.1.2. Testing the model with best hyper paramters</h4>"
   ]
  },
  {
   "cell_type": "code",
   "execution_count": null,
   "metadata": {
    "collapsed": true
   },
   "outputs": [],
   "source": [
    "clf = MultinomialNB(alpha=alpha[best_alpha])\n",
    "clf.fit(train_x_onehotCoding, train_y)\n",
    "sig_clf = CalibratedClassifierCV(clf, method=\"sigmoid\")\n",
    "sig_clf.fit(train_x_onehotCoding, train_y)\n",
    "sig_clf_probs = sig_clf.predict_proba(cv_x_onehotCoding)\n",
    "# to avoid rounding error while multiplying probabilites we use log-probability estimates\n",
    "print(\"Log Loss :\",log_loss(cv_y, sig_clf_probs))\n",
    "print(\"Number of missclassified point :\", np.count_nonzero((sig_clf.predict(cv_x_onehotCoding)- cv_y))/cv_y.shape[0])\n",
    "#plot_confusion_matrix(cv_y, sig_clf.predict(cv_x_onehotCoding.toarray()))"
   ]
  },
  {
   "cell_type": "markdown",
   "metadata": {},
   "source": [
    "<h4>4.1.1.3. Feature Importance, Correctly classified point</h4>"
   ]
  },
  {
   "cell_type": "code",
   "execution_count": 117,
   "metadata": {
    "scrolled": false
   },
   "outputs": [
    {
     "ename": "IndexError",
     "evalue": "index (1) out of range",
     "output_type": "error",
     "traceback": [
      "\u001b[1;31m---------------------------------------------------------------------------\u001b[0m",
      "\u001b[1;31mIndexError\u001b[0m                                Traceback (most recent call last)",
      "\u001b[1;32m<ipython-input-117-ab4f49ffee08>\u001b[0m in \u001b[0;36m<module>\u001b[1;34m()\u001b[0m\n\u001b[0;32m      1\u001b[0m \u001b[0mtest_point_index\u001b[0m \u001b[1;33m=\u001b[0m \u001b[1;36m1\u001b[0m\u001b[1;33m\u001b[0m\u001b[0m\n\u001b[0;32m      2\u001b[0m \u001b[0mno_feature\u001b[0m \u001b[1;33m=\u001b[0m \u001b[1;36m100\u001b[0m\u001b[1;33m\u001b[0m\u001b[0m\n\u001b[1;32m----> 3\u001b[1;33m \u001b[0mpredicted_cls\u001b[0m \u001b[1;33m=\u001b[0m \u001b[0msig_clf\u001b[0m\u001b[1;33m.\u001b[0m\u001b[0mpredict\u001b[0m\u001b[1;33m(\u001b[0m\u001b[0mtest_x_onehotCoding\u001b[0m\u001b[1;33m[\u001b[0m\u001b[0mtest_point_index\u001b[0m\u001b[1;33m]\u001b[0m\u001b[1;33m)\u001b[0m\u001b[1;33m\u001b[0m\u001b[0m\n\u001b[0m\u001b[0;32m      4\u001b[0m \u001b[0mprint\u001b[0m\u001b[1;33m(\u001b[0m\u001b[1;34m\"Predicted Class :\"\u001b[0m\u001b[1;33m,\u001b[0m \u001b[0mpredicted_cls\u001b[0m\u001b[1;33m[\u001b[0m\u001b[1;36m0\u001b[0m\u001b[1;33m]\u001b[0m\u001b[1;33m)\u001b[0m\u001b[1;33m\u001b[0m\u001b[0m\n\u001b[0;32m      5\u001b[0m \u001b[0mprint\u001b[0m\u001b[1;33m(\u001b[0m\u001b[1;34m\"Predicted Class Probabilities:\"\u001b[0m\u001b[1;33m,\u001b[0m \u001b[0mnp\u001b[0m\u001b[1;33m.\u001b[0m\u001b[0mround\u001b[0m\u001b[1;33m(\u001b[0m\u001b[0msig_clf\u001b[0m\u001b[1;33m.\u001b[0m\u001b[0mpredict_proba\u001b[0m\u001b[1;33m(\u001b[0m\u001b[0mtest_x_onehotCoding\u001b[0m\u001b[1;33m[\u001b[0m\u001b[0mtest_point_index\u001b[0m\u001b[1;33m]\u001b[0m\u001b[1;33m)\u001b[0m\u001b[1;33m,\u001b[0m\u001b[1;36m4\u001b[0m\u001b[1;33m)\u001b[0m\u001b[1;33m)\u001b[0m\u001b[1;33m\u001b[0m\u001b[0m\n",
      "\u001b[1;32mC:\\Users\\shani\\Anaconda3\\lib\\site-packages\\scipy\\sparse\\csr.py\u001b[0m in \u001b[0;36m__getitem__\u001b[1;34m(self, key)\u001b[0m\n\u001b[0;32m    290\u001b[0m             \u001b[1;31m# [i, 1:2]\u001b[0m\u001b[1;33m\u001b[0m\u001b[1;33m\u001b[0m\u001b[0m\n\u001b[0;32m    291\u001b[0m             \u001b[1;32melif\u001b[0m \u001b[0misinstance\u001b[0m\u001b[1;33m(\u001b[0m\u001b[0mcol\u001b[0m\u001b[1;33m,\u001b[0m \u001b[0mslice\u001b[0m\u001b[1;33m)\u001b[0m\u001b[1;33m:\u001b[0m\u001b[1;33m\u001b[0m\u001b[0m\n\u001b[1;32m--> 292\u001b[1;33m                 \u001b[1;32mreturn\u001b[0m \u001b[0mself\u001b[0m\u001b[1;33m.\u001b[0m\u001b[0m_get_row_slice\u001b[0m\u001b[1;33m(\u001b[0m\u001b[0mrow\u001b[0m\u001b[1;33m,\u001b[0m \u001b[0mcol\u001b[0m\u001b[1;33m)\u001b[0m\u001b[1;33m\u001b[0m\u001b[0m\n\u001b[0m\u001b[0;32m    293\u001b[0m             \u001b[1;31m# [i, [1, 2]]\u001b[0m\u001b[1;33m\u001b[0m\u001b[1;33m\u001b[0m\u001b[0m\n\u001b[0;32m    294\u001b[0m             \u001b[1;32melif\u001b[0m \u001b[0missequence\u001b[0m\u001b[1;33m(\u001b[0m\u001b[0mcol\u001b[0m\u001b[1;33m)\u001b[0m\u001b[1;33m:\u001b[0m\u001b[1;33m\u001b[0m\u001b[0m\n",
      "\u001b[1;32mC:\\Users\\shani\\Anaconda3\\lib\\site-packages\\scipy\\sparse\\csr.py\u001b[0m in \u001b[0;36m_get_row_slice\u001b[1;34m(self, i, cslice)\u001b[0m\n\u001b[0;32m    397\u001b[0m \u001b[1;33m\u001b[0m\u001b[0m\n\u001b[0;32m    398\u001b[0m         \u001b[1;32mif\u001b[0m \u001b[0mi\u001b[0m \u001b[1;33m<\u001b[0m \u001b[1;36m0\u001b[0m \u001b[1;32mor\u001b[0m \u001b[0mi\u001b[0m \u001b[1;33m>=\u001b[0m \u001b[0mM\u001b[0m\u001b[1;33m:\u001b[0m\u001b[1;33m\u001b[0m\u001b[0m\n\u001b[1;32m--> 399\u001b[1;33m             \u001b[1;32mraise\u001b[0m \u001b[0mIndexError\u001b[0m\u001b[1;33m(\u001b[0m\u001b[1;34m'index (%d) out of range'\u001b[0m \u001b[1;33m%\u001b[0m \u001b[0mi\u001b[0m\u001b[1;33m)\u001b[0m\u001b[1;33m\u001b[0m\u001b[0m\n\u001b[0m\u001b[0;32m    400\u001b[0m \u001b[1;33m\u001b[0m\u001b[0m\n\u001b[0;32m    401\u001b[0m         \u001b[0mstart\u001b[0m\u001b[1;33m,\u001b[0m \u001b[0mstop\u001b[0m\u001b[1;33m,\u001b[0m \u001b[0mstride\u001b[0m \u001b[1;33m=\u001b[0m \u001b[0mcslice\u001b[0m\u001b[1;33m.\u001b[0m\u001b[0mindices\u001b[0m\u001b[1;33m(\u001b[0m\u001b[0mN\u001b[0m\u001b[1;33m)\u001b[0m\u001b[1;33m\u001b[0m\u001b[0m\n",
      "\u001b[1;31mIndexError\u001b[0m: index (1) out of range"
     ]
    }
   ],
   "source": [
    "test_point_index = 1\n",
    "no_feature = 100\n",
    "predicted_cls = sig_clf.predict(test_x_onehotCoding[test_point_index])\n",
    "print(\"Predicted Class :\", predicted_cls[0])\n",
    "print(\"Predicted Class Probabilities:\", np.round(sig_clf.predict_proba(test_x_onehotCoding[test_point_index]),4))\n",
    "print(\"Actual Class :\", test_y[test_point_index])\n",
    "indices = np.argsort(-clf.coef_)[predicted_cls-1][:,:no_feature]\n",
    "print(\"-\"*50)\n",
    "#get_impfeature_names(indices[0], test_df['TEXT'].iloc[test_point_index],test_df['Gene'].iloc[test_point_index],test_df['Variation'].iloc[test_point_index], no_feature)"
   ]
  },
  {
   "cell_type": "markdown",
   "metadata": {},
   "source": [
    "<h4>4.1.1.4. Feature Importance, Incorrectly classified point</h4>"
   ]
  },
  {
   "cell_type": "code",
   "execution_count": 118,
   "metadata": {
    "scrolled": false
   },
   "outputs": [
    {
     "ename": "IndexError",
     "evalue": "index (1) out of range",
     "output_type": "error",
     "traceback": [
      "\u001b[1;31m---------------------------------------------------------------------------\u001b[0m",
      "\u001b[1;31mIndexError\u001b[0m                                Traceback (most recent call last)",
      "\u001b[1;32m<ipython-input-118-ab4f49ffee08>\u001b[0m in \u001b[0;36m<module>\u001b[1;34m()\u001b[0m\n\u001b[0;32m      1\u001b[0m \u001b[0mtest_point_index\u001b[0m \u001b[1;33m=\u001b[0m \u001b[1;36m1\u001b[0m\u001b[1;33m\u001b[0m\u001b[0m\n\u001b[0;32m      2\u001b[0m \u001b[0mno_feature\u001b[0m \u001b[1;33m=\u001b[0m \u001b[1;36m100\u001b[0m\u001b[1;33m\u001b[0m\u001b[0m\n\u001b[1;32m----> 3\u001b[1;33m \u001b[0mpredicted_cls\u001b[0m \u001b[1;33m=\u001b[0m \u001b[0msig_clf\u001b[0m\u001b[1;33m.\u001b[0m\u001b[0mpredict\u001b[0m\u001b[1;33m(\u001b[0m\u001b[0mtest_x_onehotCoding\u001b[0m\u001b[1;33m[\u001b[0m\u001b[0mtest_point_index\u001b[0m\u001b[1;33m]\u001b[0m\u001b[1;33m)\u001b[0m\u001b[1;33m\u001b[0m\u001b[0m\n\u001b[0m\u001b[0;32m      4\u001b[0m \u001b[0mprint\u001b[0m\u001b[1;33m(\u001b[0m\u001b[1;34m\"Predicted Class :\"\u001b[0m\u001b[1;33m,\u001b[0m \u001b[0mpredicted_cls\u001b[0m\u001b[1;33m[\u001b[0m\u001b[1;36m0\u001b[0m\u001b[1;33m]\u001b[0m\u001b[1;33m)\u001b[0m\u001b[1;33m\u001b[0m\u001b[0m\n\u001b[0;32m      5\u001b[0m \u001b[0mprint\u001b[0m\u001b[1;33m(\u001b[0m\u001b[1;34m\"Predicted Class Probabilities:\"\u001b[0m\u001b[1;33m,\u001b[0m \u001b[0mnp\u001b[0m\u001b[1;33m.\u001b[0m\u001b[0mround\u001b[0m\u001b[1;33m(\u001b[0m\u001b[0msig_clf\u001b[0m\u001b[1;33m.\u001b[0m\u001b[0mpredict_proba\u001b[0m\u001b[1;33m(\u001b[0m\u001b[0mtest_x_onehotCoding\u001b[0m\u001b[1;33m[\u001b[0m\u001b[0mtest_point_index\u001b[0m\u001b[1;33m]\u001b[0m\u001b[1;33m)\u001b[0m\u001b[1;33m,\u001b[0m\u001b[1;36m4\u001b[0m\u001b[1;33m)\u001b[0m\u001b[1;33m)\u001b[0m\u001b[1;33m\u001b[0m\u001b[0m\n",
      "\u001b[1;32mC:\\Users\\shani\\Anaconda3\\lib\\site-packages\\scipy\\sparse\\csr.py\u001b[0m in \u001b[0;36m__getitem__\u001b[1;34m(self, key)\u001b[0m\n\u001b[0;32m    290\u001b[0m             \u001b[1;31m# [i, 1:2]\u001b[0m\u001b[1;33m\u001b[0m\u001b[1;33m\u001b[0m\u001b[0m\n\u001b[0;32m    291\u001b[0m             \u001b[1;32melif\u001b[0m \u001b[0misinstance\u001b[0m\u001b[1;33m(\u001b[0m\u001b[0mcol\u001b[0m\u001b[1;33m,\u001b[0m \u001b[0mslice\u001b[0m\u001b[1;33m)\u001b[0m\u001b[1;33m:\u001b[0m\u001b[1;33m\u001b[0m\u001b[0m\n\u001b[1;32m--> 292\u001b[1;33m                 \u001b[1;32mreturn\u001b[0m \u001b[0mself\u001b[0m\u001b[1;33m.\u001b[0m\u001b[0m_get_row_slice\u001b[0m\u001b[1;33m(\u001b[0m\u001b[0mrow\u001b[0m\u001b[1;33m,\u001b[0m \u001b[0mcol\u001b[0m\u001b[1;33m)\u001b[0m\u001b[1;33m\u001b[0m\u001b[0m\n\u001b[0m\u001b[0;32m    293\u001b[0m             \u001b[1;31m# [i, [1, 2]]\u001b[0m\u001b[1;33m\u001b[0m\u001b[1;33m\u001b[0m\u001b[0m\n\u001b[0;32m    294\u001b[0m             \u001b[1;32melif\u001b[0m \u001b[0missequence\u001b[0m\u001b[1;33m(\u001b[0m\u001b[0mcol\u001b[0m\u001b[1;33m)\u001b[0m\u001b[1;33m:\u001b[0m\u001b[1;33m\u001b[0m\u001b[0m\n",
      "\u001b[1;32mC:\\Users\\shani\\Anaconda3\\lib\\site-packages\\scipy\\sparse\\csr.py\u001b[0m in \u001b[0;36m_get_row_slice\u001b[1;34m(self, i, cslice)\u001b[0m\n\u001b[0;32m    397\u001b[0m \u001b[1;33m\u001b[0m\u001b[0m\n\u001b[0;32m    398\u001b[0m         \u001b[1;32mif\u001b[0m \u001b[0mi\u001b[0m \u001b[1;33m<\u001b[0m \u001b[1;36m0\u001b[0m \u001b[1;32mor\u001b[0m \u001b[0mi\u001b[0m \u001b[1;33m>=\u001b[0m \u001b[0mM\u001b[0m\u001b[1;33m:\u001b[0m\u001b[1;33m\u001b[0m\u001b[0m\n\u001b[1;32m--> 399\u001b[1;33m             \u001b[1;32mraise\u001b[0m \u001b[0mIndexError\u001b[0m\u001b[1;33m(\u001b[0m\u001b[1;34m'index (%d) out of range'\u001b[0m \u001b[1;33m%\u001b[0m \u001b[0mi\u001b[0m\u001b[1;33m)\u001b[0m\u001b[1;33m\u001b[0m\u001b[0m\n\u001b[0m\u001b[0;32m    400\u001b[0m \u001b[1;33m\u001b[0m\u001b[0m\n\u001b[0;32m    401\u001b[0m         \u001b[0mstart\u001b[0m\u001b[1;33m,\u001b[0m \u001b[0mstop\u001b[0m\u001b[1;33m,\u001b[0m \u001b[0mstride\u001b[0m \u001b[1;33m=\u001b[0m \u001b[0mcslice\u001b[0m\u001b[1;33m.\u001b[0m\u001b[0mindices\u001b[0m\u001b[1;33m(\u001b[0m\u001b[0mN\u001b[0m\u001b[1;33m)\u001b[0m\u001b[1;33m\u001b[0m\u001b[0m\n",
      "\u001b[1;31mIndexError\u001b[0m: index (1) out of range"
     ]
    }
   ],
   "source": [
    "test_point_index = 1\n",
    "no_feature = 100\n",
    "predicted_cls = sig_clf.predict(test_x_onehotCoding[test_point_index])\n",
    "print(\"Predicted Class :\", predicted_cls[0])\n",
    "print(\"Predicted Class Probabilities:\", np.round(sig_clf.predict_proba(test_x_onehotCoding[test_point_index]),4))\n",
    "print(\"Actual Class :\", test_y[test_point_index])\n",
    "indices = np.argsort(-clf.coef_)[predicted_cls-1][:,:no_feature]\n",
    "print(\"-\"*50)\n",
    "#get_impfeature_names(indices[0], test_df['TEXT'].iloc[test_point_index],test_df['Gene'].iloc[test_point_index],test_df['Variation'].iloc[test_point_index], no_feature)"
   ]
  },
  {
   "cell_type": "code",
   "execution_count": 106,
   "metadata": {},
   "outputs": [
    {
     "data": {
      "text/plain": [
       "\"g=pd.Series('TERT')\\nv=pd.Series('C228T')\\nst=pd.Series(result.iloc[28][4])\""
      ]
     },
     "execution_count": 106,
     "metadata": {},
     "output_type": "execute_result"
    }
   ],
   "source": [
    "g=pd.Series('FAM58A')\n",
    "v=pd.Series('Truncating Mutations')\n",
    "st=pd.Series(result.iloc[0][4])\n",
    "'''g=pd.Series('TERT')\n",
    "v=pd.Series('C228T')\n",
    "st=pd.Series(result.iloc[28][4])'''"
   ]
  },
  {
   "cell_type": "code",
   "execution_count": 108,
   "metadata": {},
   "outputs": [
    {
     "name": "stdout",
     "output_type": "stream",
     "text": [
      "Predicted Class : 1\n",
      "Predicted Class Probabilities: [[0.5609 0.0975 0.0116 0.1156 0.037  0.0431 0.126  0.005  0.0032]]\n",
      "Actual Class : 1\n",
      "--------------------------------------------------\n"
     ]
    },
    {
     "data": {
      "text/plain": [
       "'clf = MultinomialNB(alpha=alpha[best_alpha])\\nclf.fit(train_x_onehotCoding, train_y)\\nsig_clf = CalibratedClassifierCV(clf, method=\"sigmoid\")\\nsig_clf.fit(train_x_onehotCoding, train_y)\\nsig_clf_probs = sig_clf.predict_proba(cv_x_onehotCoding)\\n# to avoid rounding error while multiplying probabilites we use log-probability estimates\\nprint(\"Log Loss :\",log_loss(cv_y, sig_clf_probs))\\nprint(\"Number of missclassified point :\", np.count_nonzero((sig_clf.predict(cv_x_onehotCoding)- cv_y))/cv_y.shape[0])\\nplot_confusion_matrix(cv_y, sig_clf.predict(cv_x_onehotCoding.toarray()))'"
      ]
     },
     "execution_count": 108,
     "metadata": {},
     "output_type": "execute_result"
    }
   ],
   "source": [
    "'''g_vc = CountVectorizer()\n",
    "g_enc = g_vc.fit_transform(g)\n",
    "v_cv = CountVectorizer()\n",
    "v_enc= v_cv.fit_transform(v)\n",
    "tx_vc = CountVectorizer(min_df=3)\n",
    "tx_enc = tx_vc.fit_transform(st)'''\n",
    "test_gene_feature_onehotCoding = gene_vectorizer.transform(g)\n",
    "test_variation_feature_onehotCoding = variation_vectorizer.transform(v)\n",
    "test_text_feature_onehotCoding = text_vectorizer.transform(st)\n",
    "test_text_feature_onehotCoding = normalize(test_text_feature_onehotCoding, axis=0)\n",
    "test_gene_var_onehotCoding = hstack((test_gene_feature_onehotCoding,test_variation_feature_onehotCoding))\n",
    "test_x_onehotCoding = hstack((test_gene_var_onehotCoding, test_text_feature_onehotCoding)).tocsr()\n",
    "\n",
    "test_point_index = 0\n",
    "no_feature = 100\n",
    "predicted_cls = sig_clf.predict(test_x_onehotCoding[test_point_index])\n",
    "print(\"Predicted Class :\", predicted_cls[0])\n",
    "print(\"Predicted Class Probabilities:\", np.round(sig_clf.predict_proba(test_x_onehotCoding[test_point_index]),4))\n",
    "#print(\"Actual Class :\", test_y[test_point_index])\n",
    "indices = np.argsort(-clf.coef_)[predicted_cls-1][:,:no_feature]\n",
    "print(\"-\"*50)\n",
    "#get_impfeature_names(indices[0], test_df['TEXT'].iloc[test_point_index],test_df['Gene'].iloc[test_point_index],test_df['Variation'].iloc[test_point_index], no_feature)\n",
    "\n",
    "\n",
    "'''clf = MultinomialNB(alpha=alpha[best_alpha])\n",
    "clf.fit(train_x_onehotCoding, train_y)\n",
    "sig_clf = CalibratedClassifierCV(clf, method=\"sigmoid\")\n",
    "sig_clf.fit(train_x_onehotCoding, train_y)\n",
    "sig_clf_probs = sig_clf.predict_proba(cv_x_onehotCoding)\n",
    "# to avoid rounding error while multiplying probabilites we use log-probability estimates\n",
    "print(\"Log Loss :\",log_loss(cv_y, sig_clf_probs))\n",
    "print(\"Number of missclassified point :\", np.count_nonzero((sig_clf.predict(cv_x_onehotCoding)- cv_y))/cv_y.shape[0])\n",
    "plot_confusion_matrix(cv_y, sig_clf.predict(cv_x_onehotCoding.toarray()))'''"
   ]
  },
  {
   "cell_type": "markdown",
   "metadata": {},
   "source": [
    "<h2>4.2. K Nearest Neighbour Classification</h2>"
   ]
  },
  {
   "cell_type": "markdown",
   "metadata": {},
   "source": [
    "<h3>4.2.1. Hyper parameter tuning</h3>"
   ]
  },
  {
   "cell_type": "code",
   "execution_count": 98,
   "metadata": {
    "scrolled": false
   },
   "outputs": [
    {
     "name": "stdout",
     "output_type": "stream",
     "text": [
      "for alpha = 5\n",
      "Log Loss : 1.14267764676\n",
      "for alpha = 11\n",
      "Log Loss : 1.13981357328\n",
      "for alpha = 15\n",
      "Log Loss : 1.1301428831\n",
      "for alpha = 21\n",
      "Log Loss : 1.13981946223\n",
      "for alpha = 31\n",
      "Log Loss : 1.1456602031\n",
      "for alpha = 41\n",
      "Log Loss : 1.16381085223\n",
      "for alpha = 51\n",
      "Log Loss : 1.17334349607\n",
      "for alpha = 99\n",
      "Log Loss : 1.18354248469\n"
     ]
    },
    {
     "data": {
      "image/png": "[encoded data removed]",
      "text/plain": [
       "<matplotlib.figure.Figure at 0x1392225c0>"
      ]
     },
     "metadata": {},
     "output_type": "display_data"
    },
    {
     "name": "stdout",
     "output_type": "stream",
     "text": [
      "For values of best alpha =  15 The train log loss is: 0.705467187393\n",
      "For values of best alpha =  15 The cross validation log loss is: 1.1301428831\n",
      "For values of best alpha =  15 The test log loss is: 1.00220376624\n"
     ]
    }
   ],
   "source": [
    "# find more about KNeighborsClassifier() here http://scikit-learn.org/stable/modules/generated/sklearn.neighbors.KNeighborsClassifier.html\n",
    "# -------------------------\n",
    "# default parameter\n",
    "# KNeighborsClassifier(n_neighbors=5, weights=’uniform’, algorithm=’auto’, leaf_size=30, p=2, \n",
    "# metric=’minkowski’, metric_params=None, n_jobs=1, **kwargs)\n",
    "\n",
    "# methods of\n",
    "# fit(X, y) : Fit the model using X as training data and y as target values\n",
    "# predict(X):Predict the class labels for the provided data\n",
    "# predict_proba(X):Return probability estimates for the test data X.\n",
    "#-------------------------------------\n",
    "# video link: https://www.appliedaicourse.com/course/applied-ai-course-online/lessons/k-nearest-neighbors-geometric-intuition-with-a-toy-example-1/\n",
    "#-------------------------------------\n",
    "\n",
    "\n",
    "# find more about CalibratedClassifierCV here at http://scikit-learn.org/stable/modules/generated/sklearn.calibration.CalibratedClassifierCV.html\n",
    "# ----------------------------\n",
    "# default paramters\n",
    "# sklearn.calibration.CalibratedClassifierCV(base_estimator=None, method=’sigmoid’, cv=3)\n",
    "#\n",
    "# some of the methods of CalibratedClassifierCV()\n",
    "# fit(X, y[, sample_weight])\tFit the calibrated model\n",
    "# get_params([deep])\tGet parameters for this estimator.\n",
    "# predict(X)\tPredict the target of new samples.\n",
    "# predict_proba(X)\tPosterior probabilities of classification\n",
    "#-------------------------------------\n",
    "# video link:\n",
    "#-------------------------------------\n",
    "\n",
    "\n",
    "alpha = [5, 11, 15, 21, 31, 41, 51, 99]\n",
    "cv_log_error_array = []\n",
    "for i in alpha:\n",
    "    print(\"for alpha =\", i)\n",
    "    clf = KNeighborsClassifier(n_neighbors=i)\n",
    "    clf.fit(train_x_responseCoding, train_y)\n",
    "    sig_clf = CalibratedClassifierCV(clf, method=\"sigmoid\")\n",
    "    sig_clf.fit(train_x_responseCoding, train_y)\n",
    "    sig_clf_probs = sig_clf.predict_proba(cv_x_responseCoding)\n",
    "    cv_log_error_array.append(log_loss(cv_y, sig_clf_probs, labels=clf.classes_, eps=1e-15))\n",
    "    # to avoid rounding error while multiplying probabilites we use log-probability estimates\n",
    "    print(\"Log Loss :\",log_loss(cv_y, sig_clf_probs)) \n",
    "\n",
    "fig, ax = plt.subplots()\n",
    "ax.plot(alpha, cv_log_error_array,c='g')\n",
    "for i, txt in enumerate(np.round(cv_log_error_array,3)):\n",
    "    ax.annotate((alpha[i],str(txt)), (alpha[i],cv_log_error_array[i]))\n",
    "plt.grid()\n",
    "plt.title(\"Cross Validation Error for each alpha\")\n",
    "plt.xlabel(\"Alpha i's\")\n",
    "plt.ylabel(\"Error measure\")\n",
    "plt.show()\n",
    "\n",
    "\n",
    "best_alpha = np.argmin(cv_log_error_array)\n",
    "clf = KNeighborsClassifier(n_neighbors=alpha[best_alpha])\n",
    "clf.fit(train_x_responseCoding, train_y)\n",
    "sig_clf = CalibratedClassifierCV(clf, method=\"sigmoid\")\n",
    "sig_clf.fit(train_x_responseCoding, train_y)\n",
    "\n",
    "predict_y = sig_clf.predict_proba(train_x_responseCoding)\n",
    "print('For values of best alpha = ', alpha[best_alpha], \"The train log loss is:\",log_loss(y_train, predict_y, labels=clf.classes_, eps=1e-15))\n",
    "predict_y = sig_clf.predict_proba(cv_x_responseCoding)\n",
    "print('For values of best alpha = ', alpha[best_alpha], \"The cross validation log loss is:\",log_loss(y_cv, predict_y, labels=clf.classes_, eps=1e-15))\n",
    "predict_y = sig_clf.predict_proba(test_x_responseCoding)\n",
    "print('For values of best alpha = ', alpha[best_alpha], \"The test log loss is:\",log_loss(y_test, predict_y, labels=clf.classes_, eps=1e-15))\n"
   ]
  },
  {
   "cell_type": "markdown",
   "metadata": {},
   "source": [
    "<h3>4.2.2. Testing the model with best hyper paramters</h3>"
   ]
  },
  {
   "cell_type": "code",
   "execution_count": 99,
   "metadata": {},
   "outputs": [
    {
     "name": "stdout",
     "output_type": "stream",
     "text": [
      "Log loss : 1.1301428831\n",
      "Number of mis-classified points : 0.39473684210526316\n",
      "-------------------- Confusion matrix --------------------\n"
     ]
    },
    {
     "data": {
      "image/png": "[encoded data removed]",
      "text/plain": [
       "<matplotlib.figure.Figure at 0x1360afc88>"
      ]
     },
     "metadata": {},
     "output_type": "display_data"
    },
    {
     "name": "stdout",
     "output_type": "stream",
     "text": [
      "-------------------- Precision matrix (Columm Sum=1) --------------------\n"
     ]
    },
    {
     "data": {
      "image/png": "[encoded data removed]",
      "text/plain": [
       "<matplotlib.figure.Figure at 0x1379fb0b8>"
      ]
     },
     "metadata": {},
     "output_type": "display_data"
    },
    {
     "name": "stdout",
     "output_type": "stream",
     "text": [
      "-------------------- Recall matrix (Row sum=1) --------------------\n"
     ]
    },
    {
     "data": {
      "image/png": "[encoded data removed]",
      "text/plain": [
       "<matplotlib.figure.Figure at 0x1394d2278>"
      ]
     },
     "metadata": {},
     "output_type": "display_data"
    }
   ],
   "source": [
    "# find more about KNeighborsClassifier() here http://scikit-learn.org/stable/modules/generated/sklearn.neighbors.KNeighborsClassifier.html\n",
    "# -------------------------\n",
    "# default parameter\n",
    "# KNeighborsClassifier(n_neighbors=5, weights=’uniform’, algorithm=’auto’, leaf_size=30, p=2, \n",
    "# metric=’minkowski’, metric_params=None, n_jobs=1, **kwargs)\n",
    "\n",
    "# methods of\n",
    "# fit(X, y) : Fit the model using X as training data and y as target values\n",
    "# predict(X):Predict the class labels for the provided data\n",
    "# predict_proba(X):Return probability estimates for the test data X.\n",
    "#-------------------------------------\n",
    "# video link: https://www.appliedaicourse.com/course/applied-ai-course-online/lessons/k-nearest-neighbors-geometric-intuition-with-a-toy-example-1/\n",
    "#-------------------------------------\n",
    "clf = KNeighborsClassifier(n_neighbors=alpha[best_alpha])\n",
    "predict_and_plot_confusion_matrix(train_x_responseCoding, train_y, cv_x_responseCoding, cv_y, clf)"
   ]
  },
  {
   "cell_type": "markdown",
   "metadata": {},
   "source": [
    "<h3>4.2.3.Sample Query point -1</h3>"
   ]
  },
  {
   "cell_type": "code",
   "execution_count": 106,
   "metadata": {},
   "outputs": [
    {
     "name": "stdout",
     "output_type": "stream",
     "text": [
      "Predicted Class : 7\n",
      "Actual Class : 7\n",
      "The  15  nearest neighbours of the test points belongs to classes [1 5 7 6 7 7 2 7 7 7 7 2 7 7 7]\n",
      "Fequency of nearest points : Counter({7: 10, 2: 2, 1: 1, 5: 1, 6: 1})\n"
     ]
    }
   ],
   "source": [
    "clf = KNeighborsClassifier(n_neighbors=alpha[best_alpha])\n",
    "clf.fit(train_x_responseCoding, train_y)\n",
    "sig_clf = CalibratedClassifierCV(clf, method=\"sigmoid\")\n",
    "sig_clf.fit(train_x_responseCoding, train_y)\n",
    "\n",
    "test_point_index = 1\n",
    "predicted_cls = sig_clf.predict(test_x_responseCoding[0].reshape(1,-1))\n",
    "print(\"Predicted Class :\", predicted_cls[0])\n",
    "print(\"Actual Class :\", test_y[test_point_index])\n",
    "neighbors = clf.kneighbors(test_x_responseCoding[test_point_index].reshape(1, -1), alpha[best_alpha])\n",
    "print(\"The \",alpha[best_alpha],\" nearest neighbours of the test points belongs to classes\",train_y[neighbors[1][0]])\n",
    "print(\"Fequency of nearest points :\",Counter(train_y[neighbors[1][0]]))"
   ]
  },
  {
   "cell_type": "markdown",
   "metadata": {},
   "source": [
    "<h3>4.2.4. Sample Query Point-2 </h3>"
   ]
  },
  {
   "cell_type": "code",
   "execution_count": 107,
   "metadata": {},
   "outputs": [
    {
     "name": "stdout",
     "output_type": "stream",
     "text": [
      "Predicted Class : 7\n",
      "Actual Class : 4\n",
      "the k value for knn is 15 and the nearest neighbours of the test points belongs to classes [7 7 7 7 7 7 7 7 1 5 7 7 7 7 6]\n",
      "Fequency of nearest points : Counter({7: 12, 1: 1, 5: 1, 6: 1})\n"
     ]
    }
   ],
   "source": [
    "clf = KNeighborsClassifier(n_neighbors=alpha[best_alpha])\n",
    "clf.fit(train_x_responseCoding, train_y)\n",
    "sig_clf = CalibratedClassifierCV(clf, method=\"sigmoid\")\n",
    "sig_clf.fit(train_x_responseCoding, train_y)\n",
    "\n",
    "test_point_index = 100\n",
    "\n",
    "predicted_cls = sig_clf.predict(test_x_responseCoding[test_point_index].reshape(1,-1))\n",
    "print(\"Predicted Class :\", predicted_cls[0])\n",
    "print(\"Actual Class :\", test_y[test_point_index])\n",
    "neighbors = clf.kneighbors(test_x_responseCoding[test_point_index].reshape(1, -1), alpha[best_alpha])\n",
    "print(\"the k value for knn is\",alpha[best_alpha],\"and the nearest neighbours of the test points belongs to classes\",train_y[neighbors[1][0]])\n",
    "print(\"Fequency of nearest points :\",Counter(train_y[neighbors[1][0]]))"
   ]
  },
  {
   "cell_type": "markdown",
   "metadata": {},
   "source": [
    "                                                "
   ]
  }
 ],
 "metadata": {
  "kernelspec": {
   "display_name": "Python 3",
   "language": "python",
   "name": "python3"
  },
  "language_info": {
   "codemirror_mode": {
    "name": "ipython",
    "version": 3
   },
   "file_extension": ".py",
   "mimetype": "text/x-python",
   "name": "python",
   "nbconvert_exporter": "python",
   "pygments_lexer": "ipython3",
   "version": "3.6.1"
  }
 },
 "nbformat": 4,
 "nbformat_minor": 2
}
